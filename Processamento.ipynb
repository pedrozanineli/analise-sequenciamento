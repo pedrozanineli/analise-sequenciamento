{
 "cells": [
  {
   "cell_type": "code",
   "execution_count": 1,
   "id": "ac18cd84-4942-4158-a5da-8d975dd321be",
   "metadata": {},
   "outputs": [],
   "source": [
    "import Bio\n",
    "import pandas as pd\n",
    "from operator import itemgetter"
   ]
  },
  {
   "cell_type": "markdown",
   "id": "78cd2b8c-26fa-4a46-a029-1bfc2372e5e4",
   "metadata": {
    "tags": []
   },
   "source": [
    "### Importação"
   ]
  },
  {
   "cell_type": "code",
   "execution_count": 2,
   "id": "abc7caeb-3282-4d90-ab07-c4e8f55dbd0c",
   "metadata": {},
   "outputs": [],
   "source": [
    "metadata = pd.read_excel('dados/16S_metadata.xlsx')"
   ]
  },
  {
   "cell_type": "code",
   "execution_count": 3,
   "id": "e448cc69-9e30-42a5-bae7-f27ae60cf2dc",
   "metadata": {},
   "outputs": [],
   "source": [
    "otu = pd.read_csv('dados/16S_otu.csv',index_col=[0])"
   ]
  },
  {
   "cell_type": "code",
   "execution_count": 4,
   "id": "fa866f65-d6b5-4ddb-b7d9-c8983cb1e5d6",
   "metadata": {},
   "outputs": [],
   "source": [
    "taxa = pd.read_csv('dados/16S_tax.csv',index_col=[0])"
   ]
  },
  {
   "cell_type": "code",
   "execution_count": 5,
   "id": "dd90b6c6-5076-487b-a361-5342d9060243",
   "metadata": {},
   "outputs": [],
   "source": [
    "plasticdb = pd.read_csv('dados/PlasticDB_j8075718_genus.tsv',sep='\\t')"
   ]
  },
  {
   "cell_type": "markdown",
   "id": "8ce8f843-2e93-4671-a1bb-d3132c36a189",
   "metadata": {},
   "source": [
    "### Processamento inicial"
   ]
  },
  {
   "cell_type": "code",
   "execution_count": 6,
   "id": "13dbd33d-19b6-4f6d-a140-a9aff7bf8eaf",
   "metadata": {},
   "outputs": [],
   "source": [
    "data = taxa.join(otu)"
   ]
  },
  {
   "cell_type": "code",
   "execution_count": 19,
   "id": "b0b6b1e8-6a97-419c-8ec3-16004981f669",
   "metadata": {},
   "outputs": [],
   "source": [
    "list_data = []\n",
    "genero = data['Genus']\n",
    "\n",
    "for ASV in range(len(data)):\n",
    "    \n",
    "    list_data.append([genero[ASV],list(data.iloc[ASV,7:])])\n",
    "    # print(data.iloc[ASV,7:])"
   ]
  },
  {
   "cell_type": "code",
   "execution_count": 45,
   "id": "866a1888-b5fe-43e3-8c78-8f07a9e97894",
   "metadata": {},
   "outputs": [],
   "source": [
    "list_plasticdb = []\n",
    "genero = plasticdb['Genus']\n",
    "plastic = list(plasticdb['Plastic'])\n",
    "\n",
    "for ASV in range(len(plasticdb)):\n",
    "    \n",
    "    list_plasticdb.append([genero[ASV],plastic[ASV]])"
   ]
  },
  {
   "cell_type": "code",
   "execution_count": 22,
   "id": "4cb1cbbb-bf0b-4b40-946b-23a420996253",
   "metadata": {},
   "outputs": [],
   "source": [
    "dic_data = {}\n",
    "\n",
    "for value in list_data:\n",
    "    \n",
    "    if value[0] not in dic_data.keys():\n",
    "        dic_data[value[0]] = value[1]\n",
    "    else:\n",
    "        for i in range(len(dic_data[value[0]])):\n",
    "            dic_data[value[0]][i] += value[1][i]"
   ]
  },
  {
   "cell_type": "markdown",
   "id": "9d5af081-2e0b-46d8-8680-dab76794f72f",
   "metadata": {},
   "source": [
    "#### Agrupamento dos dados"
   ]
  },
  {
   "cell_type": "code",
   "execution_count": 59,
   "id": "1cb6bcaf-0e4d-48ff-9f16-67dcf5acaae3",
   "metadata": {},
   "outputs": [],
   "source": [
    "colunas = list(data.columns)\n",
    "lista_colunas = []\n",
    "\n",
    "for coluna in colunas[7:]:\n",
    "    lista_colunas.append(coluna.split('-')[0])"
   ]
  },
  {
   "cell_type": "code",
   "execution_count": 66,
   "id": "c13ce561-5eab-4e94-a9c7-d16374324ac0",
   "metadata": {},
   "outputs": [],
   "source": [
    "dic_data_count = {}\n",
    "\n",
    "for key in dic_data.keys():\n",
    "    \n",
    "    if key not in dic_data_count:\n",
    "        dic_data_count[key] = {}\n",
    "    \n",
    "    for values, plastico in zip(dic_data[key],lista_colunas):\n",
    "        \n",
    "        if plastico not in dic_data_count[key]:\n",
    "            dic_data_count[key][plastico] = values\n",
    "        else:\n",
    "            dic_data_count[key][plastico] += values"
   ]
  },
  {
   "cell_type": "code",
   "execution_count": 47,
   "id": "7527d2d3-db6e-4ac9-a697-fff49586c9d4",
   "metadata": {},
   "outputs": [],
   "source": [
    "dic_plasticdb = {}\n",
    "\n",
    "for value in list_plasticdb:\n",
    "    if value[0] not in dic_plasticdb:\n",
    "        dic_plasticdb[value[0]] = {value[1]:0}\n",
    "    else:\n",
    "        dic_aux = dic_plasticdb[value[0]]\n",
    "        if value[1] not in dic_aux:\n",
    "            dic_aux[value[1]] = 0\n",
    "        else:\n",
    "            dic_aux[value[1]] += 1"
   ]
  },
  {
   "cell_type": "markdown",
   "id": "f7665804-8f4a-489e-8a61-0ab086d491d6",
   "metadata": {},
   "source": [
    "### Análise dos dados"
   ]
  },
  {
   "cell_type": "code",
   "execution_count": 70,
   "id": "8a2268d8-7d7b-4a56-a322-011484156ee1",
   "metadata": {},
   "outputs": [
    {
     "data": {
      "text/plain": [
       "['HDPE', 'LDPE', 'Pet', 'PVC']"
      ]
     },
     "execution_count": 70,
     "metadata": {},
     "output_type": "execute_result"
    }
   ],
   "source": [
    "list(dic_data_count['Pseudomonas'].keys())"
   ]
  },
  {
   "cell_type": "code",
   "execution_count": 89,
   "id": "4f5b3f6d-55e7-45db-95b5-36013c43511f",
   "metadata": {},
   "outputs": [
    {
     "data": {
      "text/plain": [
       "{'Pseudomonas': {'HDPE': 0, 'LDPE': 62181, 'Pet': 58688, 'PVC': 55607},\n",
       " 'Rhodococcus': {'HDPE': 26181, 'LDPE': 23273, 'Pet': 13592, 'PVC': 24459},\n",
       " 'Paenarthrobacter': {'HDPE': 0, 'LDPE': 2566, 'Pet': 8667, 'PVC': 0},\n",
       " 'Pseudofulvimonas': {'HDPE': 9441, 'LDPE': 0, 'Pet': 21838, 'PVC': 789},\n",
       " nan: {'HDPE': 6256, 'LDPE': 19196, 'Pet': 44907, 'PVC': 16561},\n",
       " 'Acinetobacter': {'HDPE': 0, 'LDPE': 1977, 'Pet': 41269, 'PVC': 0},\n",
       " 'Shinella': {'HDPE': 2415, 'LDPE': 11751, 'Pet': 6968, 'PVC': 462},\n",
       " 'Brevundimonas': {'HDPE': 186, 'LDPE': 227, 'Pet': 3570, 'PVC': 0},\n",
       " 'Millisia': {'HDPE': 1627, 'LDPE': 1535, 'Pet': 222, 'PVC': 0},\n",
       " 'Paracoccus': {'HDPE': 0, 'LDPE': 0, 'Pet': 2519, 'PVC': 904},\n",
       " 'Intrasporangium': {'HDPE': 0, 'LDPE': 0, 'Pet': 839, 'PVC': 0},\n",
       " 'Symbiobacterium': {'HDPE': 0, 'LDPE': 0, 'Pet': 3888, 'PVC': 0},\n",
       " 'Cohnella': {'HDPE': 0, 'LDPE': 828, 'Pet': 0, 'PVC': 234},\n",
       " 'Pseudoxanthomonas': {'HDPE': 443, 'LDPE': 286, 'Pet': 828, 'PVC': 502},\n",
       " 'Sphingobacterium': {'HDPE': 0, 'LDPE': 273, 'Pet': 793, 'PVC': 0},\n",
       " 'Pontibacter': {'HDPE': 328, 'LDPE': 0, 'Pet': 4215, 'PVC': 0},\n",
       " 'Achromobacter': {'HDPE': 0, 'LDPE': 3495, 'Pet': 1340, 'PVC': 0},\n",
       " 'Phreatobacter': {'HDPE': 0, 'LDPE': 904, 'Pet': 1555, 'PVC': 748},\n",
       " 'Aminobacter': {'HDPE': 0, 'LDPE': 559, 'Pet': 736, 'PVC': 0},\n",
       " 'Azospirillum': {'HDPE': 0, 'LDPE': 0, 'Pet': 14831, 'PVC': 0},\n",
       " 'Bdellovibrio': {'HDPE': 0, 'LDPE': 1424, 'Pet': 515, 'PVC': 709},\n",
       " 'Devosia': {'HDPE': 0, 'LDPE': 647, 'Pet': 645, 'PVC': 0},\n",
       " 'Microbacterium': {'HDPE': 0, 'LDPE': 442, 'Pet': 625, 'PVC': 0},\n",
       " 'Sphingopyxis': {'HDPE': 0, 'LDPE': 583, 'Pet': 0, 'PVC': 0},\n",
       " 'Hydrogenophaga': {'HDPE': 0, 'LDPE': 2599, 'Pet': 1505, 'PVC': 664},\n",
       " 'Pseudaminobacter': {'HDPE': 0, 'LDPE': 0, 'Pet': 931, 'PVC': 413},\n",
       " 'Gemmobacter': {'HDPE': 0, 'LDPE': 574, 'Pet': 556, 'PVC': 0},\n",
       " 'Edaphobaculum': {'HDPE': 571, 'LDPE': 0, 'Pet': 0, 'PVC': 0},\n",
       " 'Klugiella': {'HDPE': 0, 'LDPE': 566, 'Pet': 0, 'PVC': 0},\n",
       " 'Agromyces': {'HDPE': 0, 'LDPE': 0, 'Pet': 531, 'PVC': 0},\n",
       " 'Luteimonas': {'HDPE': 0, 'LDPE': 0, 'Pet': 1209, 'PVC': 0},\n",
       " 'Taibaiella': {'HDPE': 0, 'LDPE': 0, 'Pet': 2527, 'PVC': 0},\n",
       " 'Ensifer': {'HDPE': 0, 'LDPE': 0, 'Pet': 0, 'PVC': 526},\n",
       " 'Zhizhongheella': {'HDPE': 517, 'LDPE': 0, 'Pet': 0, 'PVC': 0},\n",
       " 'Bosea': {'HDPE': 0, 'LDPE': 792, 'Pet': 1238, 'PVC': 1521},\n",
       " 'Enterobacter': {'HDPE': 0, 'LDPE': 0, 'Pet': 497, 'PVC': 0},\n",
       " 'IMCC26207': {'HDPE': 0, 'LDPE': 0, 'Pet': 474, 'PVC': 0},\n",
       " 'Hyphomonas': {'HDPE': 457, 'LDPE': 0, 'Pet': 0, 'PVC': 0},\n",
       " 'Allorhizobium-Neorhizobium-Pararhizobium-Rhizobium': {'HDPE': 0,\n",
       "  'LDPE': 0,\n",
       "  'Pet': 933,\n",
       "  'PVC': 0},\n",
       " 'Gordonia': {'HDPE': 0, 'LDPE': 0, 'Pet': 1701, 'PVC': 0},\n",
       " 'Persicitalea': {'HDPE': 0, 'LDPE': 0, 'Pet': 976, 'PVC': 221},\n",
       " 'Paludisphaera': {'HDPE': 0, 'LDPE': 115, 'Pet': 0, 'PVC': 1208},\n",
       " 'TM7a': {'HDPE': 362, 'LDPE': 0, 'Pet': 568, 'PVC': 0},\n",
       " 'Sandaracinus': {'HDPE': 0, 'LDPE': 0, 'Pet': 1009, 'PVC': 428},\n",
       " 'Thermomonas': {'HDPE': 0, 'LDPE': 422, 'Pet': 0, 'PVC': 0},\n",
       " 'Vulgatibacter': {'HDPE': 0, 'LDPE': 0, 'Pet': 414, 'PVC': 0},\n",
       " 'Ancylobacter': {'HDPE': 0, 'LDPE': 411, 'Pet': 0, 'PVC': 0},\n",
       " 'Sinomonas': {'HDPE': 0, 'LDPE': 752, 'Pet': 0, 'PVC': 0},\n",
       " 'Cupriavidus': {'HDPE': 0, 'LDPE': 0, 'Pet': 408, 'PVC': 0},\n",
       " 'Paenibacillus': {'HDPE': 0, 'LDPE': 131, 'Pet': 391, 'PVC': 0},\n",
       " 'Steroidobacter': {'HDPE': 0, 'LDPE': 0, 'Pet': 0, 'PVC': 389},\n",
       " 'Dysgonomonas': {'HDPE': 0, 'LDPE': 387, 'Pet': 0, 'PVC': 0},\n",
       " 'Pajaroellobacter': {'HDPE': 1161, 'LDPE': 236, 'Pet': 0, 'PVC': 0},\n",
       " 'Tianweitania': {'HDPE': 0, 'LDPE': 0, 'Pet': 2542, 'PVC': 0},\n",
       " 'Terrimicrobium': {'HDPE': 0, 'LDPE': 0, 'Pet': 355, 'PVC': 0},\n",
       " 'Planctomicrobium': {'HDPE': 0, 'LDPE': 0, 'Pet': 607, 'PVC': 0},\n",
       " 'Flavobacterium': {'HDPE': 0, 'LDPE': 1230, 'Pet': 0, 'PVC': 570},\n",
       " 'Pseudarthrobacter': {'HDPE': 0, 'LDPE': 0, 'Pet': 0, 'PVC': 640},\n",
       " 'Aggregicoccus': {'HDPE': 0, 'LDPE': 0, 'Pet': 317, 'PVC': 0},\n",
       " 'Nubsella': {'HDPE': 0, 'LDPE': 0, 'Pet': 309, 'PVC': 0},\n",
       " 'Mycoplana': {'HDPE': 303, 'LDPE': 0, 'Pet': 0, 'PVC': 0},\n",
       " 'Inhella': {'HDPE': 0, 'LDPE': 0, 'Pet': 281, 'PVC': 0},\n",
       " 'Chryseobacterium': {'HDPE': 0, 'LDPE': 279, 'Pet': 0, 'PVC': 0},\n",
       " 'Pseudopedobacter': {'HDPE': 0, 'LDPE': 0, 'Pet': 1300, 'PVC': 0},\n",
       " 'Iamia': {'HDPE': 0, 'LDPE': 127, 'Pet': 264, 'PVC': 0},\n",
       " 'LD29': {'HDPE': 0, 'LDPE': 0, 'Pet': 254, 'PVC': 0},\n",
       " 'SM1A02': {'HDPE': 0, 'LDPE': 0, 'Pet': 334, 'PVC': 959},\n",
       " 'Rurimicrobium': {'HDPE': 0, 'LDPE': 0, 'Pet': 218, 'PVC': 0},\n",
       " 'Arthrobacter': {'HDPE': 0, 'LDPE': 555, 'Pet': 0, 'PVC': 0},\n",
       " 'OLB13': {'HDPE': 0, 'LDPE': 0, 'Pet': 198, 'PVC': 0},\n",
       " 'SWB02': {'HDPE': 0, 'LDPE': 0, 'Pet': 190, 'PVC': 0},\n",
       " 'Bryobacter': {'HDPE': 0, 'LDPE': 189, 'Pet': 0, 'PVC': 0},\n",
       " 'Candidatus Cryptoprodotis': {'HDPE': 0, 'LDPE': 0, 'Pet': 0, 'PVC': 184},\n",
       " 'Chelatococcus': {'HDPE': 0, 'LDPE': 0, 'Pet': 179, 'PVC': 0},\n",
       " 'Falsarthrobacter': {'HDPE': 0, 'LDPE': 0, 'Pet': 167, 'PVC': 0},\n",
       " 'Youhaiella': {'HDPE': 0, 'LDPE': 0, 'Pet': 152, 'PVC': 0},\n",
       " 'Lunatimonas': {'HDPE': 0, 'LDPE': 0, 'Pet': 135, 'PVC': 0},\n",
       " 'Nitrosomonas': {'HDPE': 0, 'LDPE': 0, 'Pet': 128, 'PVC': 0},\n",
       " 'Pseudorhodoplanes': {'HDPE': 0, 'LDPE': 127, 'Pet': 0, 'PVC': 0},\n",
       " 'Luteolibacter': {'HDPE': 0, 'LDPE': 0, 'Pet': 135, 'PVC': 0},\n",
       " 'Peredibacter': {'HDPE': 0, 'LDPE': 105, 'Pet': 0, 'PVC': 0},\n",
       " 'Pedomicrobium': {'HDPE': 0, 'LDPE': 71, 'Pet': 0, 'PVC': 103},\n",
       " 'Luteitalea': {'HDPE': 91, 'LDPE': 0, 'Pet': 44, 'PVC': 0},\n",
       " 'Shivajiella': {'HDPE': 55, 'LDPE': 0, 'Pet': 0, 'PVC': 0},\n",
       " 'Aquiflexum': {'HDPE': 0, 'LDPE': 0, 'Pet': 0, 'PVC': 50},\n",
       " 'Rhabdobacter': {'HDPE': 0, 'LDPE': 0, 'Pet': 0, 'PVC': 50}}"
      ]
     },
     "execution_count": 89,
     "metadata": {},
     "output_type": "execute_result"
    }
   ],
   "source": [
    "dic_data_count"
   ]
  },
  {
   "cell_type": "code",
   "execution_count": 104,
   "id": "94a36fc3-3fbe-44c9-8adf-1d02244a00e5",
   "metadata": {},
   "outputs": [],
   "source": [
    "reportadas = []\n",
    "n_reportadas = []\n",
    "\n",
    "for k_data in dic_data_count.keys():\n",
    "    \n",
    "    if k_data in dic_plasticdb:\n",
    "        \n",
    "        plasticos = dic_data_count[k_data]\n",
    "        \n",
    "        for plastico in plasticos:\n",
    "            \n",
    "            abund_rel = sum(list(dic_data_count[k_data].values())) * 0.1\n",
    "            \n",
    "            if plasticos[plastico] > abund_rel:\n",
    "                \n",
    "                if plastico.upper() in dic_plasticdb[k_data]:\n",
    "                    \n",
    "                    reportadas.append([k_data,plastico])\n",
    "                    \n",
    "                else:\n",
    "                    \n",
    "                    n_reportadas.append([k_data,plastico])"
   ]
  },
  {
   "cell_type": "code",
   "execution_count": 105,
   "id": "89c15c12-fcbe-4a32-8b9f-c6a006dbb859",
   "metadata": {},
   "outputs": [
    {
     "data": {
      "text/plain": [
       "[['Pseudomonas', 'LDPE'],\n",
       " ['Pseudomonas', 'Pet'],\n",
       " ['Pseudomonas', 'PVC'],\n",
       " ['Acinetobacter', 'Pet'],\n",
       " ['Sphingobacterium', 'LDPE'],\n",
       " ['Microbacterium', 'Pet'],\n",
       " ['Paenibacillus', 'LDPE']]"
      ]
     },
     "execution_count": 105,
     "metadata": {},
     "output_type": "execute_result"
    }
   ],
   "source": [
    "reportadas"
   ]
  },
  {
   "cell_type": "code",
   "execution_count": 106,
   "id": "59705274-6673-4972-bb1b-9d8382b2f985",
   "metadata": {},
   "outputs": [
    {
     "data": {
      "text/plain": [
       "[['Rhodococcus', 'HDPE'],\n",
       " ['Rhodococcus', 'LDPE'],\n",
       " ['Rhodococcus', 'Pet'],\n",
       " ['Rhodococcus', 'PVC'],\n",
       " ['Brevundimonas', 'Pet'],\n",
       " ['Paracoccus', 'Pet'],\n",
       " ['Paracoccus', 'PVC'],\n",
       " ['Pseudoxanthomonas', 'HDPE'],\n",
       " ['Pseudoxanthomonas', 'LDPE'],\n",
       " ['Pseudoxanthomonas', 'Pet'],\n",
       " ['Pseudoxanthomonas', 'PVC'],\n",
       " ['Sphingobacterium', 'Pet'],\n",
       " ['Achromobacter', 'LDPE'],\n",
       " ['Achromobacter', 'Pet'],\n",
       " ['Azospirillum', 'Pet'],\n",
       " ['Bdellovibrio', 'LDPE'],\n",
       " ['Bdellovibrio', 'Pet'],\n",
       " ['Bdellovibrio', 'PVC'],\n",
       " ['Microbacterium', 'LDPE'],\n",
       " ['Agromyces', 'Pet'],\n",
       " ['Enterobacter', 'Pet'],\n",
       " ['Cupriavidus', 'Pet'],\n",
       " ['Paenibacillus', 'Pet'],\n",
       " ['Flavobacterium', 'LDPE'],\n",
       " ['Flavobacterium', 'PVC'],\n",
       " ['Arthrobacter', 'LDPE']]"
      ]
     },
     "execution_count": 106,
     "metadata": {},
     "output_type": "execute_result"
    }
   ],
   "source": [
    "n_reportadas"
   ]
  },
  {
   "cell_type": "code",
   "execution_count": null,
   "id": "84a4e996-5b6c-4dc0-9a09-817165b0ea31",
   "metadata": {},
   "outputs": [],
   "source": []
  }
 ],
 "metadata": {
  "kernelspec": {
   "display_name": "ilumpy",
   "language": "python",
   "name": "ilumpy"
  },
  "language_info": {
   "codemirror_mode": {
    "name": "ipython",
    "version": 3
   },
   "file_extension": ".py",
   "mimetype": "text/x-python",
   "name": "python",
   "nbconvert_exporter": "python",
   "pygments_lexer": "ipython3",
   "version": "3.10.8"
  }
 },
 "nbformat": 4,
 "nbformat_minor": 5
}
